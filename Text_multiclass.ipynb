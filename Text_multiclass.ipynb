{
 "cells": [
  {
   "cell_type": "code",
   "execution_count": 2,
   "id": "0a4ada25-60c1-43cb-99d6-cc768af4810f",
   "metadata": {},
   "outputs": [],
   "source": [
    "#pip install pyspark"
   ]
  },
  {
   "cell_type": "code",
   "execution_count": 3,
   "id": "362302ca-016c-45a2-861d-5a716e059a1b",
   "metadata": {},
   "outputs": [],
   "source": [
    "import pyspark\n",
    "from pyspark import SparkContext"
   ]
  },
  {
   "cell_type": "code",
   "execution_count": 18,
   "id": "b7f7ff39",
   "metadata": {},
   "outputs": [
    {
     "data": {
      "text/html": [
       "\n",
       "        <div>\n",
       "            <p><b>SparkContext</b></p>\n",
       "\n",
       "            <p><a href=\"http://10.10.6.140:4040\">Spark UI</a></p>\n",
       "\n",
       "            <dl>\n",
       "              <dt>Version</dt>\n",
       "                <dd><code>v3.3.0</code></dd>\n",
       "              <dt>Master</dt>\n",
       "                <dd><code>local[*]</code></dd>\n",
       "              <dt>AppName</dt>\n",
       "                <dd><code>pyspark-shell</code></dd>\n",
       "            </dl>\n",
       "        </div>\n",
       "        "
      ],
      "text/plain": [
       "<SparkContext master=local[*] appName=pyspark-shell>"
      ]
     },
     "execution_count": 18,
     "metadata": {},
     "output_type": "execute_result"
    }
   ],
   "source": [
    "from doctest import master\n",
    "\n",
    "\n",
    "sc = SparkContext.getOrCreate()\n",
    "sc"
   ]
  },
  {
   "cell_type": "code",
   "execution_count": 19,
   "id": "f6e482d4-8315-4735-9b3f-8ef879980450",
   "metadata": {},
   "outputs": [],
   "source": [
    "from pyspark.sql import SparkSession\n",
    "\n",
    "spark = SparkSession.builder.appName(\"TextClassifierApp\").getOrCreate()"
   ]
  },
  {
   "cell_type": "code",
   "execution_count": 20,
   "id": "394ca256",
   "metadata": {},
   "outputs": [],
   "source": [
    "df = spark.read.csv(\"udemy_dataset.csv\",header=True,inferSchema=True)"
   ]
  },
  {
   "cell_type": "code",
   "execution_count": 36,
   "id": "abd5b92f",
   "metadata": {},
   "outputs": [
    {
     "name": "stdout",
     "output_type": "stream",
     "text": [
      "22/09/27 15:35:49 WARN CSVHeaderChecker: CSV header does not conform to the schema.\n",
      " Header: , course_id, course_title, url, is_paid, price, num_subscribers, num_reviews, num_lectures, level, content_duration, published_timestamp, subject, clean_course_title\n",
      " Schema: _c0, course_id, course_title, url, is_paid, price, num_subscribers, num_reviews, num_lectures, level, content_duration, published_timestamp, subject, clean_course_title\n",
      "Expected: _c0 but found: \n",
      "CSV file: file:///home/wytcor/Stabble-Diffusion-Project/udemy_dataset.csv\n",
      "+---+---------+--------------------+--------------------+-------+-----+---------------+-----------+------------+------------------+----------------+--------------------+----------------+--------------------+\n",
      "|_c0|course_id|        course_title|                 url|is_paid|price|num_subscribers|num_reviews|num_lectures|             level|content_duration| published_timestamp|         subject|  clean_course_title|\n",
      "+---+---------+--------------------+--------------------+-------+-----+---------------+-----------+------------+------------------+----------------+--------------------+----------------+--------------------+\n",
      "|  0|  1070968|Ultimate Investme...|https://www.udemy...|   True|  200|           2147|         23|          51|        All Levels|       1.5 hours|2017-01-18T20:58:58Z|Business Finance|Ultimate Investme...|\n",
      "|  1|  1113822|Complete GST Cour...|https://www.udemy...|   True|   75|           2792|        923|         274|        All Levels|        39 hours|2017-03-09T16:34:20Z|Business Finance|Complete GST Cour...|\n",
      "|  2|  1006314|Financial Modelin...|https://www.udemy...|   True|   45|           2174|         74|          51|Intermediate Level|       2.5 hours|2016-12-19T19:26:30Z|Business Finance|Financial Modelin...|\n",
      "|  3|  1210588|Beginner to Pro -...|https://www.udemy...|   True|   95|           2451|         11|          36|        All Levels|         3 hours|2017-05-30T20:07:24Z|Business Finance|Beginner Pro  Fin...|\n",
      "|  4|  1011058|How To Maximize Y...|https://www.udemy...|   True|  200|           1276|         45|          26|Intermediate Level|         2 hours|2016-12-13T14:57:18Z|Business Finance|Maximize Profits ...|\n",
      "|  5|   192870|Trading Penny Sto...|https://www.udemy...|   True|  150|           9221|        138|          25|        All Levels|         3 hours|2014-05-02T15:13:30Z|Business Finance|Trading Penny Sto...|\n",
      "|  6|   739964|Investing And Tra...|https://www.udemy...|   True|   65|           1540|        178|          26|    Beginner Level|          1 hour|2016-02-21T18:23:12Z|Business Finance|Investing Trading...|\n",
      "|  7|   403100|Trading Stock Cha...|https://www.udemy...|   True|   95|           2917|        148|          23|        All Levels|       2.5 hours|2015-01-30T22:13:03Z|Business Finance|Trading Stock Cha...|\n",
      "|  8|   476268|Options Trading 3...|https://www.udemy...|   True|  195|           5172|         34|          38|      Expert Level|       2.5 hours|2015-05-28T00:14:03Z|Business Finance|Options Trading 3...|\n",
      "|  9|  1167710|The Only Investme...|https://www.udemy...|   True|  200|            827|         14|          15|        All Levels|          1 hour|2017-04-18T18:13:32Z|Business Finance|Investment Strate...|\n",
      "| 10|   592338|Forex Trading Sec...|https://www.udemy...|   True|  200|           4284|         93|          76|        All Levels|         5 hours|2015-09-11T16:47:02Z|Business Finance|Forex Trading Sec...|\n",
      "| 11|   975046|Trading Options W...|https://www.udemy...|   True|  200|           1380|         42|          17|        All Levels|          1 hour|2016-10-18T22:52:31Z|Business Finance|Trading Options M...|\n",
      "| 12|   742602|Financial Managem...|https://www.udemy...|   True|   30|           3607|         21|          19|        All Levels|       1.5 hours|2016-02-03T18:04:01Z|Business Finance|Financial Managem...|\n",
      "| 13|   794151|Forex Trading Cou...|https://www.udemy...|   True|  195|           4061|         52|          16|        All Levels|         2 hours|2016-03-16T15:40:19Z|Business Finance|Forex Trading Cou...|\n",
      "| 14|  1196544|Python Algo Tradi...|https://www.udemy...|   True|  200|            294|         19|          42|        All Levels|         7 hours|2017-04-28T16:41:44Z|Business Finance|Python Algo Tradi...|\n",
      "| 15|   504036|Short Selling: Le...|https://www.udemy...|   True|   75|           2276|        106|          19|Intermediate Level|       1.5 hours|2015-06-22T21:18:35Z|Business Finance|Short Selling Lea...|\n",
      "| 16|   719698|Basic Technical A...|https://www.udemy...|   True|   20|           4919|         79|          16|    Beginner Level|       1.5 hours|2016-01-08T17:21:26Z|Business Finance|Basic Technical A...|\n",
      "| 17|   564966|The Complete Char...|https://www.udemy...|   True|  200|           2666|        115|          52|        All Levels|         4 hours|2015-08-10T21:07:35Z|Business Finance|Complete Chart Pa...|\n",
      "| 18|   606928|7 Deadly Mistakes...|https://www.udemy...|   True|   50|           5354|         24|          23|        All Levels|       1.5 hours|2015-09-21T18:10:34Z|Business Finance|7 Deadly Mistakes...|\n",
      "| 19|    58977|Financial Stateme...|https://www.udemy...|   True|   95|           8095|        249|          12|    Beginner Level|         35 mins|2013-06-09T00:21:26Z|Business Finance|Financial Stateme...|\n",
      "| 20|  1242604|Winning Forex Tra...|https://www.udemy...|   True|  200|            809|          3|          25|        All Levels|         2 hours|2017-06-06T02:54:04Z|Business Finance|Winning Forex Tra...|\n",
      "| 21|   798740|Forex Traders - C...|https://www.udemy...|   True|  200|           2295|         84|          39|        All Levels|         4 hours|2016-05-02T19:26:48Z|Business Finance|Forex Traders  Cr...|\n",
      "| 22|   506568|Create A Business...|https://www.udemy...|   True|   75|          10149|         83|          16|        All Levels|         2 hours|2015-05-26T17:25:46Z|Business Finance|Create Business H...|\n",
      "| 23|  1020760|Introduction to A...|https://www.udemy...|   True|   50|           1916|         38|          23|    Beginner Level|          1 hour|2016-12-05T22:14:17Z|Business Finance|Introduction Acco...|\n",
      "| 24|   859742|The Complete Ethe...|https://www.udemy...|   True|   45|           2507|        333|          40|        All Levels|         2 hours|2016-05-30T18:53:46Z|Business Finance|Complete Ethereum...|\n",
      "| 25|   383414|Beginner to Pro i...|https://www.udemy...|   True|  150|           5786|        518|          50|        All Levels|         5 hours|2015-01-31T15:34:05Z|Business Finance|Beginner Pro Powe...|\n",
      "| 26|   353044|Investing 101: Th...|https://www.udemy...|   True|  200|           5334|        373|          42|        All Levels|       4.5 hours|2014-11-28T17:49:03Z|Business Finance|Investing 101 Com...|\n",
      "| 27|   447362|Create Your Own H...|https://www.udemy...|   True|  175|           4005|        237|          25|Intermediate Level|         2 hours|2015-04-12T20:13:47Z|Business Finance|Create Hedge Fund...|\n",
      "| 28|   831066|Learn MQL5: Build...|https://www.udemy...|   True|  150|           2877|        103|          81|        All Levels|       4.5 hours|2016-04-26T22:41:46Z|Business Finance|Learn MQL5 Build ...|\n",
      "| 29|  1266306|Forex Trading: Yo...|https://www.udemy...|   True|  140|           1026|         25|          37|    Beginner Level|         3 hours|2017-06-27T22:21:31Z|Business Finance|Forex Trading Com...|\n",
      "| 30|  1170894|Python Algo Stock...|https://www.udemy...|   True|   95|           1165|         21|          41|    Beginner Level|       2.5 hours|2017-05-28T23:41:03Z|Business Finance|Python Algo Stock...|\n",
      "| 31|   948974|THE Forex Robot: ...|https://www.udemy...|   True|  200|           1843|        171|          35|        All Levels|       1.5 hours|2016-10-04T15:20:57Z|Business Finance|Forex Robot Incre...|\n",
      "| 32|   380970|The Complete Bitc...|https://www.udemy...|   True|   45|           8797|        449|          80|        All Levels|       6.5 hours|2015-01-09T03:55:15Z|Business Finance|Complete Bitcoin ...|\n",
      "| 33|  1217778|Mastering High Pr...|https://www.udemy...|   True|  200|           1030|         11|          22|        All Levels|         2 hours|2017-06-01T05:22:08Z|Business Finance|Mastering High Pr...|\n",
      "| 34|  1246208|The Complete Shor...|https://www.udemy...|   True|  200|           1041|         12|          28|        All Levels|       1.5 hours|2017-06-11T19:02:03Z|Business Finance|Complete Short Co...|\n",
      "| 35|   434774|Options Trading S...|https://www.udemy...|   True|  195|           7884|        118|          68|Intermediate Level|        10 hours|2015-05-19T23:25:41Z|Business Finance|Options Trading S...|\n",
      "| 36|   308690|Forex Trading A-Z...|https://www.udemy...|   True|  195|          16900|       2476|          52|    Beginner Level|       5.5 hours|2014-12-12T23:58:39Z|Business Finance|Forex Trading AZ ...|\n",
      "| 37|   888716|Introduction to F...|https://www.udemy...|   True|  200|          11441|       1118|          61|        All Levels|       4.5 hours|2016-06-28T06:12:23Z|Business Finance|Introduction Fina...|\n",
      "| 38|   321410|Beginner to Pro i...|https://www.udemy...|   True|  195|          22257|       2697|         138|        All Levels|       7.5 hours|2014-11-25T23:00:40Z|Business Finance|Beginner Pro Exce...|\n",
      "| 39|   965832|The Complete Inve...|https://www.udemy...|   True|  195|           8575|        809|         110|        All Levels|       5.5 hours|2016-10-10T16:16:26Z|Business Finance|Complete Investme...|\n",
      "| 40|   648826|The Complete Fina...|https://www.udemy...|   True|  195|          24481|       2347|         174|        All Levels|        10 hours|2016-01-21T01:38:48Z|Business Finance|Complete Financia...|\n",
      "| 41|  1035472|Python for Financ...|https://www.udemy...|   True|  195|           3811|        278|         103|        All Levels|       6.5 hours|2017-03-30T22:17:09Z|Business Finance|Python Finance In...|\n",
      "| 42|  1154754|Financial Modelin...|https://www.udemy...|   True|  195|           4991|        137|          79|    Beginner Level|      11.5 hours|2017-03-29T22:36:05Z|Business Finance|Financial Modelin...|\n",
      "| 43|   627540|Options Trading -...|https://www.udemy...|   True|  115|           7489|       1190|          25|Intermediate Level|          1 hour|2015-10-22T21:54:28Z|Business Finance|Options Trading  ...|\n",
      "| 44|   301442|Black Algo Tradin...|https://www.udemy...|   True|  200|          20195|       1113|         227|        All Levels|        16 hours|2014-10-27T22:01:36Z|Business Finance|Black Algo Tradin...|\n",
      "| 45|   640100|Accounting & Fina...|https://www.udemy...|   True|  150|          10042|        594|          43|        All Levels|         3 hours|2015-10-22T00:03:48Z|Business Finance|Accounting  Finan...|\n",
      "| 46|  1247394|Cryptocurrency Tr...|https://www.udemy...|   True|   95|            367|         42|          35|        All Levels|         5 hours|2017-06-21T23:18:47Z|Business Finance|Cryptocurrency Tr...|\n",
      "| 47|   260470|Forex Robots: Exp...|https://www.udemy...|   True|  200|          10603|        872|          42|        All Levels|       5.5 hours|2014-10-12T21:19:11Z|Business Finance|Forex Robots Expe...|\n",
      "| 48|  1214702|Three Steps Tradi...|https://www.udemy...|   True|  190|           1197|         11|          46|        All Levels|         5 hours|2017-05-24T23:02:07Z|Business Finance|Steps Trading  Li...|\n",
      "| 49|   848664|Option Trading fo...|https://www.udemy...|   True|  150|           2893|         65|          62|        All Levels|         2 hours|2016-08-10T15:27:06Z|Business Finance|Option Trading Ro...|\n",
      "| 50|  1142570|How I Learned Sto...|https://www.udemy...|   True|  200|           1580|         12|          53|      Expert Level|         2 hours|2017-05-02T21:20:54Z|Business Finance|Learned Stock Tra...|\n",
      "| 51|   325834|Learn to Trade fo...|https://www.udemy...|   True|   95|          10605|         71|          77|        All Levels|         3 hours|2014-10-24T18:13:49Z|Business Finance|Learn Trade Profi...|\n",
      "| 52|   411168|Trading Inside Ba...|https://www.udemy...|   True|  125|           2996|        200|          23|Intermediate Level|         2 hours|2015-03-09T00:24:38Z|Business Finance|Trading Inside Ba...|\n",
      "| 53|   885974|Four Fundamentals...|https://www.udemy...|   True|   30|           6219|         23|          20|        All Levels|          1 hour|2017-02-14T04:42:58Z|Business Finance|Fundamentals Fina...|\n",
      "| 54|  1151092|Options Trading -...|https://www.udemy...|   True|  200|           1113|         11|          17|        All Levels|       1.5 hours|2017-04-02T21:46:00Z|Business Finance|Options Trading  ...|\n",
      "| 55|   358326|Dividend Investin...|https://www.udemy...|   True|   60|           8314|         83|          47|    Beginner Level|         4 hours|2015-01-24T06:31:19Z|Business Finance|Dividend Investin...|\n",
      "| 56|   153210|Learn Accounting....|https://www.udemy...|   True|  200|           5572|        123|          33|    Beginner Level|       5.5 hours|2014-03-27T17:58:37Z|Business Finance|Learn Accounting ...|\n",
      "| 57|   834836|How to Consistent...|https://www.udemy...|   True|  145|           1433|        169|          15|Intermediate Level|          1 hour|2016-05-09T05:44:33Z|Business Finance|Consistently Win ...|\n",
      "| 58|  1171994|A Beginner's Guid...|https://www.udemy...|   True|   20|            936|          6|          11|Intermediate Level|       1.5 hours|2017-04-11T00:59:50Z|Business Finance|Beginners Guide Q...|\n",
      "| 59|  1239068|How to Buy Cheap ...|https://www.udemy...|   True|  200|            658|          2|          19|        All Levels|          1 hour|2017-06-02T18:12:45Z|Business Finance|Buy Cheap Options...|\n",
      "| 60|   985922|Excel Crash Cours...|https://www.udemy...|   True|  105|           8121|        689|          40|        All Levels|       3.5 hours|2016-10-18T00:51:59Z|Business Finance|Excel Crash Cours...|\n",
      "| 61|   765562|Comprehensive Gui...|https://www.udemy...|   True|   60|           4187|        600|          79|    Beginner Level|         9 hours|2016-02-29T18:45:41Z|Business Finance|Comprehensive Gui...|\n",
      "| 62|   165964|Stock Trading Nin...|https://www.udemy...|   True|  155|           9445|        497|          38|        All Levels|       4.5 hours|2014-02-19T19:04:28Z|Business Finance|Stock Trading Nin...|\n",
      "| 63|   855172|Hedge and Mutual ...|https://www.udemy...|   True|  200|           3255|        340|         102|        All Levels|       8.5 hours|2016-06-20T20:17:12Z|Business Finance|Hedge Mutual Fund...|\n",
      "| 64|   258232|Algorithmic Tradi...|https://www.udemy...|   True|  185|           7941|        713|          40|        All Levels|       6.5 hours|2014-08-11T08:01:14Z|Business Finance|Algorithmic Tradi...|\n",
      "| 65|   994754|The Power Modelin...|https://www.udemy...|   True|  150|           1680|        158|          76|        All Levels|       5.5 hours|2016-11-26T04:09:14Z|Business Finance|Power Modeling Bo...|\n",
      "| 66|    43319|Options Trading B...|https://www.udemy...|   True|  180|          10100|        985|          45|    Beginner Level|        11 hours|2013-02-25T11:36:06Z|Business Finance|Options Trading B...|\n",
      "| 67|   408440|How to Win 97% of...|https://www.udemy...|   True|  125|           5050|        461|          26|        All Levels|       1.5 hours|2015-02-10T04:21:40Z|Business Finance|Win 97 Options Tr...|\n",
      "| 68|   918688|How I Make Consis...|https://www.udemy...|   True|  200|           2310|        162|          26|        All Levels|       3.5 hours|2016-10-05T17:42:52Z|Business Finance|Consistent Return...|\n",
      "| 69|   308694|Forex Strategies:...|https://www.udemy...|   True|  185|           5528|        506|          32|        All Levels|         3 hours|2015-02-19T11:31:27Z|Business Finance|Forex Strategies ...|\n",
      "| 70|   199450|Elite Trend Trade...|https://www.udemy...|   True|  125|           6451|        237|          28|        All Levels|         5 hours|2014-04-16T13:58:31Z|Business Finance|Elite Trend Trade...|\n",
      "| 71|   401784|Options Trading I...|https://www.udemy...|   True|   95|          12394|        218|          30|    Beginner Level|       2.5 hours|2015-02-20T21:39:41Z|Business Finance|Options Trading I...|\n",
      "| 72|  1122792|The Almost Perfec...|https://www.udemy...|   True|  200|           1793|         18|          15|        All Levels|          1 hour|2017-03-03T21:43:05Z|Business Finance|Perfect Options T...|\n",
      "| 73|   709500|Forex Trading -  ...|https://www.udemy...|   True|   20|           3223|        240|          23|        All Levels|          1 hour|2016-03-30T15:29:03Z|Business Finance|Forex Trading  Le...|\n",
      "| 74|   285638|Learn to Trade fo...|https://www.udemy...|   True|   60|          16385|        273|          45|    Beginner Level|         3 hours|2014-09-02T03:53:13Z|Business Finance|Learn Trade Profi...|\n",
      "| 75|  1135126|The Most Powerful...|https://www.udemy...|   True|  200|           1487|         16|          18|        All Levels|         2 hours|2017-03-08T21:09:41Z|Business Finance|Powerful Options ...|\n",
      "| 76|   834558|What Finance Job ...|https://www.udemy...|   True|  200|           2951|        232|          60|        All Levels|         4 hours|2016-05-04T05:22:32Z|Business Finance|Finance Job You E...|\n",
      "| 77|   551968|The Blueprint for...|https://www.udemy...|   True|  120|           2697|        331|          15|        All Levels|          1 hour|2015-08-13T18:58:05Z|Business Finance|Blueprint Success...|\n",
      "| 78|  1005658|Trading for Begin...|https://www.udemy...|   True|  150|           3979|         40|          39|    Beginner Level|         5 hours|2016-11-09T01:45:20Z|Business Finance|Trading Beginners...|\n",
      "| 79|   746432|Start Trading Sto...|https://www.udemy...|   True|   25|           3190|        244|          45|        All Levels|         4 hours|2016-02-03T17:10:31Z|Business Finance|Start Trading Sto...|\n",
      "| 80|  1057242|Learn How to Set ...|https://www.udemy...|   True|  200|           1406|         71|          54|      Expert Level|       1.5 hours|2017-01-18T20:55:27Z|Business Finance|Learn Set Incubat...|\n",
      "| 81|   284118|VPS for Forex Tra...|https://www.udemy...|   True|  160|           4252|        225|          24|        All Levels|         2 hours|2014-09-19T04:07:58Z|Business Finance|VPS Forex Trading...|\n",
      "| 82|   302562|Introduction to A...|https://www.udemy...|   True|   20|          11958|        370|         134|    Beginner Level|      11.5 hours|2014-10-02T09:16:55Z|Business Finance|Introduction Acco...|\n",
      "| 83|   596598|Basic Excel for B...|https://www.udemy...|   True|   95|           7743|        340|          33|    Beginner Level|       1.5 hours|2015-09-10T00:30:48Z|Business Finance|Basic Excel Basic...|\n",
      "| 84|   860890|Using 'The Greeks...|https://www.udemy...|   True|   50|           2134|         55|           5|        All Levels|          1 hour|2016-07-13T18:37:40Z|Business Finance|The Greeks Unders...|\n",
      "| 85|   951050|Trading Options F...|https://www.udemy...|   True|  200|           1214|         69|          20|        All Levels|       1.5 hours|2016-10-07T04:58:46Z|Business Finance|Trading Options C...|\n",
      "| 86|   796450|How to Create You...|https://www.udemy...|   True|   20|           3870|         53|          10|        All Levels|          1 hour|2016-03-21T21:09:49Z|Business Finance|Create Personal B...|\n",
      "| 87|   502772|The Complete Valu...|https://www.udemy...|   True|  200|           2146|        212|          49|        All Levels|       4.5 hours|2015-06-16T22:43:07Z|Business Finance|Complete Value In...|\n",
      "| 88|  1102462|FOREX Trading wit...|https://www.udemy...|   True|  195|            484|         57|          19|    Beginner Level|          1 hour|2017-03-14T18:30:55Z|Business Finance|FOREX Trading Pri...|\n",
      "| 89|  1062092|Emini ES Futures ...|https://www.udemy...|   True|  200|           1057|         15|          14|        All Levels|       1.5 hours|2017-01-11T20:48:19Z|Business Finance|Emini ES Futures ...|\n",
      "| 90|   891484|Forex Trading - A...|https://www.udemy...|   True|   20|           1754|        100|          49|Intermediate Level|       2.5 hours|2016-06-30T17:06:46Z|Business Finance|Forex Trading  Ad...|\n",
      "| 91|  1217064|How To Invest Wit...|https://www.udemy...|   True|   20|           1239|          5|           6|    Beginner Level|         42 mins|2017-05-23T16:07:09Z|Business Finance|Invest Tiny Capit...|\n",
      "| 92|   382204|Learn How To Succ...|https://www.udemy...|   True|   95|           2493|        276|         108|        All Levels|       9.5 hours|2015-01-31T19:02:09Z|Business Finance|Learn Successfull...|\n",
      "| 93|  1259560|Test your knowled...|https://www.udemy...|   True|   30|           1000|         11|           0|    Beginner Level|   218 questions|2017-06-20T05:56:52Z|Business Finance|Test knowledge Ba...|\n",
      "| 94|   308696|Forex MetaTrader ...|https://www.udemy...|   True|  150|           2602|        402|          57|    Beginner Level|         5 hours|2015-10-28T17:32:56Z|Business Finance|Forex MetaTrader ...|\n",
      "| 95|  1270254|Test your Knowled...|https://www.udemy...|   True|   30|            999|          3|           0|        All Levels|    18 questions|2017-06-27T10:43:44Z|Business Finance|Test Knowledge Co...|\n",
      "| 96|   474928|Intermediate Opti...|https://www.udemy...|   True|   40|           2000|         30|           9|        All Levels|          1 hour|2015-04-13T20:28:04Z|Business Finance|Intermediate Opti...|\n",
      "| 97|  1148774|Options Trading 1...|https://www.udemy...|  False| Free|           1514|         66|          11|    Beginner Level|         33 mins|2017-03-23T22:19:57Z|Business Finance|Options Trading 1...|\n",
      "| 98|   959144|Practical Account...|https://www.udemy...|   True|   20|           1361|          1|          14|Intermediate Level|         3 hours|2016-10-04T23:38:32Z|Business Finance|Practical Account...|\n",
      "| 99|  1233350|Bitcoin Profits f...|https://www.udemy...|   True|  100|             61|         18|          30|    Beginner Level|       1.5 hours|2017-06-09T17:01:05Z|Business Finance|Bitcoin Profits B...|\n",
      "+---+---------+--------------------+--------------------+-------+-----+---------------+-----------+------------+------------------+----------------+--------------------+----------------+--------------------+\n",
      "only showing top 100 rows\n",
      "\n",
      "None\n"
     ]
    }
   ],
   "source": [
    "print(df.show(100))"
   ]
  },
  {
   "cell_type": "code",
   "execution_count": 37,
   "id": "74599c88",
   "metadata": {},
   "outputs": [
    {
     "data": {
      "text/plain": [
       "['_c0',\n",
       " 'course_id',\n",
       " 'course_title',\n",
       " 'url',\n",
       " 'is_paid',\n",
       " 'price',\n",
       " 'num_subscribers',\n",
       " 'num_reviews',\n",
       " 'num_lectures',\n",
       " 'level',\n",
       " 'content_duration',\n",
       " 'published_timestamp',\n",
       " 'subject',\n",
       " 'clean_course_title']"
      ]
     },
     "execution_count": 37,
     "metadata": {},
     "output_type": "execute_result"
    }
   ],
   "source": [
    "df.columns"
   ]
  },
  {
   "cell_type": "code",
   "execution_count": 51,
   "id": "825e1d54",
   "metadata": {},
   "outputs": [
    {
     "name": "stdout",
     "output_type": "stream",
     "text": [
      "+--------------------+----------------+\n",
      "|        course_title|         subject|\n",
      "+--------------------+----------------+\n",
      "|Ultimate Investme...|Business Finance|\n",
      "|Complete GST Cour...|Business Finance|\n",
      "|Financial Modelin...|Business Finance|\n",
      "|Beginner to Pro -...|Business Finance|\n",
      "|How To Maximize Y...|Business Finance|\n",
      "|Trading Penny Sto...|Business Finance|\n",
      "|Investing And Tra...|Business Finance|\n",
      "|Trading Stock Cha...|Business Finance|\n",
      "|Options Trading 3...|Business Finance|\n",
      "|The Only Investme...|Business Finance|\n",
      "|Forex Trading Sec...|Business Finance|\n",
      "|Trading Options W...|Business Finance|\n",
      "|Financial Managem...|Business Finance|\n",
      "|Forex Trading Cou...|Business Finance|\n",
      "|Python Algo Tradi...|Business Finance|\n",
      "|Short Selling: Le...|Business Finance|\n",
      "|Basic Technical A...|Business Finance|\n",
      "|The Complete Char...|Business Finance|\n",
      "|7 Deadly Mistakes...|Business Finance|\n",
      "|Financial Stateme...|Business Finance|\n",
      "+--------------------+----------------+\n",
      "only showing top 20 rows\n",
      "\n"
     ]
    }
   ],
   "source": [
    "selected_data=df.select('course_title','subject')\n",
    "selected_data.show()"
   ]
  },
  {
   "cell_type": "code",
   "execution_count": 50,
   "id": "f2fd833b",
   "metadata": {},
   "outputs": [],
   "source": [
    "#pip install pandas"
   ]
  },
  {
   "cell_type": "code",
   "execution_count": 55,
   "id": "73c24a57",
   "metadata": {},
   "outputs": [
    {
     "name": "stdout",
     "output_type": "stream",
     "text": [
      "0\n",
      "0\n"
     ]
    }
   ],
   "source": [
    "##Cheking the dataset integrity\n",
    "\n",
    "print(selected_data.toPandas()['subject'].isna().sum())\n",
    "\n",
    "selected_data=selected_data.dropna(subset=('subject'))\n",
    "print(selected_data.toPandas()['subject'].isna().sum())\n"
   ]
  },
  {
   "cell_type": "code",
   "execution_count": 57,
   "id": "2f42285d",
   "metadata": {},
   "outputs": [],
   "source": [
    "##Feature engineering \n",
    "import pyspark.ml.feature"
   ]
  },
  {
   "cell_type": "code",
   "execution_count": 58,
   "id": "a86ffc9b",
   "metadata": {},
   "outputs": [
    {
     "data": {
      "text/plain": [
       "['Any',\n",
       " 'Binarizer',\n",
       " 'BucketedRandomProjectionLSH',\n",
       " 'BucketedRandomProjectionLSHModel',\n",
       " 'Bucketizer',\n",
       " 'ChiSqSelector',\n",
       " 'ChiSqSelectorModel',\n",
       " 'CountVectorizer',\n",
       " 'CountVectorizerModel',\n",
       " 'DCT',\n",
       " 'DataFrame',\n",
       " 'DenseMatrix',\n",
       " 'DenseVector',\n",
       " 'Dict',\n",
       " 'ElementwiseProduct',\n",
       " 'FeatureHasher',\n",
       " 'Generic',\n",
       " 'HasFeaturesCol',\n",
       " 'HasHandleInvalid',\n",
       " 'HasInputCol',\n",
       " 'HasInputCols',\n",
       " 'HasLabelCol',\n",
       " 'HasMaxIter',\n",
       " 'HasNumFeatures',\n",
       " 'HasOutputCol',\n",
       " 'HasOutputCols',\n",
       " 'HasRelativeError',\n",
       " 'HasSeed',\n",
       " 'HasStepSize',\n",
       " 'HasThreshold',\n",
       " 'HasThresholds',\n",
       " 'HashingTF',\n",
       " 'IDF',\n",
       " 'IDFModel',\n",
       " 'Imputer',\n",
       " 'ImputerModel',\n",
       " 'IndexToString',\n",
       " 'Interaction',\n",
       " 'JM',\n",
       " 'JavaEstimator',\n",
       " 'JavaMLReadable',\n",
       " 'JavaMLWritable',\n",
       " 'JavaModel',\n",
       " 'JavaParams',\n",
       " 'JavaTransformer',\n",
       " 'List',\n",
       " 'MaxAbsScaler',\n",
       " 'MaxAbsScalerModel',\n",
       " 'MinHashLSH',\n",
       " 'MinHashLSHModel',\n",
       " 'MinMaxScaler',\n",
       " 'MinMaxScalerModel',\n",
       " 'NGram',\n",
       " 'Normalizer',\n",
       " 'OneHotEncoder',\n",
       " 'OneHotEncoderModel',\n",
       " 'Optional',\n",
       " 'P',\n",
       " 'PCA',\n",
       " 'PCAModel',\n",
       " 'Param',\n",
       " 'Params',\n",
       " 'PolynomialExpansion',\n",
       " 'QuantileDiscretizer',\n",
       " 'RFormula',\n",
       " 'RFormulaModel',\n",
       " 'RegexTokenizer',\n",
       " 'RobustScaler',\n",
       " 'RobustScalerModel',\n",
       " 'SQLTransformer',\n",
       " 'SparkContext',\n",
       " 'StandardScaler',\n",
       " 'StandardScalerModel',\n",
       " 'StopWordsRemover',\n",
       " 'StringIndexer',\n",
       " 'StringIndexerModel',\n",
       " 'TYPE_CHECKING',\n",
       " 'Tokenizer',\n",
       " 'Tuple',\n",
       " 'TypeConverters',\n",
       " 'TypeVar',\n",
       " 'Union',\n",
       " 'UnivariateFeatureSelector',\n",
       " 'UnivariateFeatureSelectorModel',\n",
       " 'VarianceThresholdSelector',\n",
       " 'VarianceThresholdSelectorModel',\n",
       " 'Vector',\n",
       " 'VectorAssembler',\n",
       " 'VectorIndexer',\n",
       " 'VectorIndexerModel',\n",
       " 'VectorSizeHint',\n",
       " 'VectorSlicer',\n",
       " 'Word2Vec',\n",
       " 'Word2VecModel',\n",
       " '_BucketedRandomProjectionLSHParams',\n",
       " '_CountVectorizerParams',\n",
       " '_IDFParams',\n",
       " '_ImputerParams',\n",
       " '_LSH',\n",
       " '_LSHModel',\n",
       " '_LSHParams',\n",
       " '_MaxAbsScalerParams',\n",
       " '_MinMaxScalerParams',\n",
       " '_OneHotEncoderParams',\n",
       " '_PCAParams',\n",
       " '_RFormulaParams',\n",
       " '_RobustScalerParams',\n",
       " '_Selector',\n",
       " '_SelectorModel',\n",
       " '_SelectorParams',\n",
       " '_StandardScalerParams',\n",
       " '_StringIndexerParams',\n",
       " '_UnivariateFeatureSelectorParams',\n",
       " '_VarianceThresholdSelectorParams',\n",
       " '_VectorIndexerParams',\n",
       " '_Word2VecParams',\n",
       " '__all__',\n",
       " '__builtins__',\n",
       " '__cached__',\n",
       " '__doc__',\n",
       " '__file__',\n",
       " '__loader__',\n",
       " '__name__',\n",
       " '__package__',\n",
       " '__spec__',\n",
       " '_convert_to_vector',\n",
       " '_jvm',\n",
       " 'cast',\n",
       " 'inherit_doc',\n",
       " 'keyword_only',\n",
       " 'overload',\n",
       " 'since']"
      ]
     },
     "execution_count": 58,
     "metadata": {},
     "output_type": "execute_result"
    }
   ],
   "source": [
    "dir(pyspark.ml.feature)"
   ]
  },
  {
   "cell_type": "code",
   "execution_count": 59,
   "id": "93ad1e6f",
   "metadata": {},
   "outputs": [],
   "source": [
    "from pyspark.ml.feature import Tokenizer, StopWordsRemover, CountVectorizer, IDF"
   ]
  },
  {
   "cell_type": "code",
   "execution_count": 60,
   "id": "f3ff697a",
   "metadata": {},
   "outputs": [],
   "source": [
    "from pyspark.ml.feature import StringIndexer"
   ]
  },
  {
   "cell_type": "code",
   "execution_count": null,
   "id": "1e8e2745",
   "metadata": {},
   "outputs": [],
   "source": [
    "#Stages to pre-process data"
   ]
  },
  {
   "cell_type": "code",
   "execution_count": 61,
   "id": "42da5e78",
   "metadata": {},
   "outputs": [],
   "source": [
    "Tokens= Tokenizer(inputCol='course_title', outputCol='words_in_tokens')\n",
    "stopwords_remover = StopWordsRemover(inputCol='words_in_tokens',outputCol='filtered_tokens')\n",
    "vectorizer = CountVectorizer(inputCol='filtered_tokens',outputCol='rawFeatures')\n",
    "idf = IDF(inputCol='rawFeatures',outputCol='vectorizedFeatures')"
   ]
  },
  {
   "cell_type": "code",
   "execution_count": 83,
   "id": "023edf05",
   "metadata": {},
   "outputs": [
    {
     "name": "stdout",
     "output_type": "stream",
     "text": [
      "+--------------------+----------------+-----+\n",
      "|        course_title|         subject|label|\n",
      "+--------------------+----------------+-----+\n",
      "|Ultimate Investme...|Business Finance|  1.0|\n",
      "|Complete GST Cour...|Business Finance|  1.0|\n",
      "|Financial Modelin...|Business Finance|  1.0|\n",
      "|Beginner to Pro -...|Business Finance|  1.0|\n",
      "|How To Maximize Y...|Business Finance|  1.0|\n",
      "|Trading Penny Sto...|Business Finance|  1.0|\n",
      "|Investing And Tra...|Business Finance|  1.0|\n",
      "|Trading Stock Cha...|Business Finance|  1.0|\n",
      "|Options Trading 3...|Business Finance|  1.0|\n",
      "|The Only Investme...|Business Finance|  1.0|\n",
      "|Forex Trading Sec...|Business Finance|  1.0|\n",
      "|Trading Options W...|Business Finance|  1.0|\n",
      "|Financial Managem...|Business Finance|  1.0|\n",
      "|Forex Trading Cou...|Business Finance|  1.0|\n",
      "|Python Algo Tradi...|Business Finance|  1.0|\n",
      "+--------------------+----------------+-----+\n",
      "only showing top 15 rows\n",
      "\n"
     ]
    }
   ],
   "source": [
    "labelEncoder = StringIndexer(inputCol='subject',outputCol='label').fit(selected_data)\n",
    "\n",
    "#print(labelEncoder.labels)\n",
    "\n",
    "labelEncoder.transform(selected_data).show(15)"
   ]
  },
  {
   "cell_type": "code",
   "execution_count": 73,
   "id": "2467f2aa",
   "metadata": {},
   "outputs": [],
   "source": [
    "label_dict = {'Web Development':0.0,\n",
    " 'Business Finance':1.0,\n",
    " 'Musical Instruments':2.0,\n",
    " 'Graphic Design':3.0}"
   ]
  },
  {
   "cell_type": "code",
   "execution_count": 84,
   "id": "0e214e57",
   "metadata": {},
   "outputs": [
    {
     "name": "stdout",
     "output_type": "stream",
     "text": [
      "+--------------------+----------------+-----+\n",
      "|        course_title|         subject|label|\n",
      "+--------------------+----------------+-----+\n",
      "|Ultimate Investme...|Business Finance|  1.0|\n",
      "|Complete GST Cour...|Business Finance|  1.0|\n",
      "|Financial Modelin...|Business Finance|  1.0|\n",
      "|Beginner to Pro -...|Business Finance|  1.0|\n",
      "|How To Maximize Y...|Business Finance|  1.0|\n",
      "|Trading Penny Sto...|Business Finance|  1.0|\n",
      "|Investing And Tra...|Business Finance|  1.0|\n",
      "|Trading Stock Cha...|Business Finance|  1.0|\n",
      "|Options Trading 3...|Business Finance|  1.0|\n",
      "|The Only Investme...|Business Finance|  1.0|\n",
      "|Forex Trading Sec...|Business Finance|  1.0|\n",
      "|Trading Options W...|Business Finance|  1.0|\n",
      "|Financial Managem...|Business Finance|  1.0|\n",
      "|Forex Trading Cou...|Business Finance|  1.0|\n",
      "|Python Algo Tradi...|Business Finance|  1.0|\n",
      "|Short Selling: Le...|Business Finance|  1.0|\n",
      "|Basic Technical A...|Business Finance|  1.0|\n",
      "|The Complete Char...|Business Finance|  1.0|\n",
      "|7 Deadly Mistakes...|Business Finance|  1.0|\n",
      "|Financial Stateme...|Business Finance|  1.0|\n",
      "+--------------------+----------------+-----+\n",
      "only showing top 20 rows\n",
      "\n"
     ]
    }
   ],
   "source": [
    "pos_processed=labelEncoder.transform(selected_data)\n",
    "pos_processed.show()"
   ]
  },
  {
   "cell_type": "code",
   "execution_count": 100,
   "id": "46467651",
   "metadata": {},
   "outputs": [],
   "source": [
    "##Split dataset\n",
    "\n",
    "(trainDF,testDF) = pos_processed.randomSplit((0.7,0.3),seed=1)"
   ]
  },
  {
   "cell_type": "code",
   "execution_count": 101,
   "id": "36b34619",
   "metadata": {},
   "outputs": [],
   "source": [
    "from pyspark.ml.classification import LogisticRegression\n",
    "\n",
    "lr = LogisticRegression(featuresCol='vectorizedFeatures',labelCol='label')"
   ]
  },
  {
   "cell_type": "code",
   "execution_count": 102,
   "id": "12af26fd",
   "metadata": {},
   "outputs": [],
   "source": [
    "##Pipeline\n",
    "from pyspark.ml import Pipeline\n",
    "\n",
    "pipeline = Pipeline(stages=[Tokens,stopwords_remover,vectorizer,idf,lr])"
   ]
  },
  {
   "cell_type": "code",
   "execution_count": 103,
   "id": "41e86f7b",
   "metadata": {},
   "outputs": [],
   "source": [
    "lr_model = pipeline.fit(trainDF)"
   ]
  },
  {
   "cell_type": "code",
   "execution_count": 104,
   "id": "4311a45d",
   "metadata": {},
   "outputs": [],
   "source": [
    "predictions = lr_model.transform(testDF)"
   ]
  },
  {
   "cell_type": "code",
   "execution_count": 105,
   "id": "ed33c663",
   "metadata": {},
   "outputs": [
    {
     "data": {
      "text/plain": [
       "['course_title',\n",
       " 'subject',\n",
       " 'label',\n",
       " 'words_in_tokens',\n",
       " 'filtered_tokens',\n",
       " 'rawFeatures',\n",
       " 'vectorizedFeatures',\n",
       " 'rawPrediction',\n",
       " 'probability',\n",
       " 'prediction']"
      ]
     },
     "execution_count": 105,
     "metadata": {},
     "output_type": "execute_result"
    }
   ],
   "source": [
    "predictions.columns"
   ]
  },
  {
   "cell_type": "code",
   "execution_count": 106,
   "id": "6cf3073d",
   "metadata": {},
   "outputs": [
    {
     "name": "stdout",
     "output_type": "stream",
     "text": [
      "+--------------------+-------------------+-----+----------+\n",
      "|        course_title|            subject|label|prediction|\n",
      "+--------------------+-------------------+-----+----------+\n",
      "|#5  Piano Hand Co...|Musical Instruments|  2.0|       2.0|\n",
      "|#6 Piano Hand Coo...|Musical Instruments|  2.0|       2.0|\n",
      "|         1 Hour HTML|    Web Development|  0.0|       0.0|\n",
      "|   1 Hour JavaScript|    Web Development|  0.0|       0.0|\n",
      "|       1 hour jQuery|    Web Development|  0.0|       0.0|\n",
      "|1. Principles of ...|   Business Finance|  1.0|       1.0|\n",
      "|10 Numbers Every ...|   Business Finance|  1.0|       1.0|\n",
      "|3 Little Pigs: A ...|   Business Finance|  1.0|       1.0|\n",
      "|3. Compound Inter...|   Business Finance|  1.0|       1.0|\n",
      "|30 Day Guitar Jum...|Musical Instruments|  2.0|       2.0|\n",
      "|3D Programming wi...|    Web Development|  0.0|       0.0|\n",
      "|4. Ordinary Simpl...|   Business Finance|  1.0|       1.0|\n",
      "|5 lecciones que t...|Musical Instruments|  2.0|       1.0|\n",
      "|6 Must Know Trick...|Musical Instruments|  2.0|       0.0|\n",
      "|6. Annuities Due ...|   Business Finance|  1.0|       1.0|\n",
      "|8 Beautiful Ruby ...|    Web Development|  0.0|       0.0|\n",
      "|8. Amortization S...|   Business Finance|  1.0|       1.0|\n",
      "|A 13 Hour SQL Ser...|    Web Development|  0.0|       0.0|\n",
      "|A Complete Larave...|    Web Development|  0.0|       0.0|\n",
      "|A Very Complete I...|    Web Development|  0.0|       0.0|\n",
      "+--------------------+-------------------+-----+----------+\n",
      "only showing top 20 rows\n",
      "\n"
     ]
    }
   ],
   "source": [
    "predictions.select('course_title','subject','label','prediction').show()"
   ]
  },
  {
   "cell_type": "markdown",
   "id": "b8821828",
   "metadata": {},
   "source": [
    "#Evaluation"
   ]
  },
  {
   "cell_type": "code",
   "execution_count": 107,
   "id": "6629f39a",
   "metadata": {},
   "outputs": [
    {
     "name": "stdout",
     "output_type": "stream",
     "text": [
      "0.9238440616500453\n"
     ]
    }
   ],
   "source": [
    "from pyspark.ml.evaluation import MulticlassClassificationEvaluator\n",
    "\n",
    "evaluator=MulticlassClassificationEvaluator(predictionCol='prediction',labelCol='label', metricName='accuracy')\n",
    "\n",
    "print(evaluator.evaluate(predictions))"
   ]
  }
 ],
 "metadata": {
  "kernelspec": {
   "display_name": "Python 3.9.12 ('Detectron')",
   "language": "python",
   "name": "python3"
  },
  "language_info": {
   "codemirror_mode": {
    "name": "ipython",
    "version": 3
   },
   "file_extension": ".py",
   "mimetype": "text/x-python",
   "name": "python",
   "nbconvert_exporter": "python",
   "pygments_lexer": "ipython3",
   "version": "3.9.13"
  },
  "vscode": {
   "interpreter": {
    "hash": "c4ed87f70cd9fbdd2c703938c5d1b6036b8f552190982ef726d7ccf473a513f7"
   }
  }
 },
 "nbformat": 4,
 "nbformat_minor": 5
}
